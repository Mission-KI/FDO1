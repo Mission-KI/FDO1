{
 "cells": [
  {
   "cell_type": "markdown",
   "id": "8ae9b9c3-19d6-41a5-8fb0-cc46871cb241",
   "metadata": {},
   "source": [
    "# FDO Workflow to create an FDO in a selected data service\n",
    "Authors: Sven Bingert, Jana Böhm, Triet Doan"
   ]
  },
  {
   "cell_type": "code",
   "execution_count": 9,
   "id": "a65345fb-85e4-4ab4-bc9a-8aae72d553d1",
   "metadata": {},
   "outputs": [],
   "source": [
    "!pip3 install doipy==0.5.0 --quiet"
   ]
  },
  {
   "cell_type": "code",
   "execution_count": 10,
   "id": "6f5ecda5-fee8-48dc-924d-37e604a33186",
   "metadata": {},
   "outputs": [],
   "source": [
    "from doipy import hello, list_operations, create_fdo, get_connection\n",
    "import requests"
   ]
  },
  {
   "cell_type": "code",
   "execution_count": 11,
   "id": "32b4ebc5-a957-41ed-aad6-5219f2ad63dc",
   "metadata": {},
   "outputs": [],
   "source": [
    "# Read service specific operations\n",
    "#\n",
    "def get_operations_from_service(service_PID, registry_URL):\n",
    "    request_URL = registry_URL + service_PID\n",
    "    response = requests.get(request_URL)\n",
    "    result = response.json()\n",
    "    return result['implementsOperations']"
   ]
  },
  {
   "cell_type": "code",
   "execution_count": 12,
   "id": "586fc6cc-7a3f-4bf6-ae0c-9df4b95bdf13",
   "metadata": {},
   "outputs": [],
   "source": [
    "# Read the PID for schema to be able to provide the required input\n",
    "# for a specific operation\n",
    "#\n",
    "def get_operation_schema_PID(operation_PID, registry_URL):\n",
    "    request_URL = registry_URL + operation_PID\n",
    "    response = requests.get(request_URL)\n",
    "    result = response.json()\n",
    "    inputs_PID = result['inputs']\n",
    "    return inputs_PID"
   ]
  },
  {
   "cell_type": "code",
   "execution_count": 13,
   "id": "b718ea1a-e859-4fa4-bb84-2238c2ef39ee",
   "metadata": {},
   "outputs": [],
   "source": [
    "# Get the schema for the operation\n",
    "#\n",
    "def get_operation_schema(schema_PID, registry_URL):\n",
    "    request_URL = registry_URL + schema_PID\n",
    "    return requests.get(request_URL).json()"
   ]
  },
  {
   "cell_type": "code",
   "execution_count": 14,
   "id": "57fcda00-c04e-4387-8299-7966f644ee24",
   "metadata": {},
   "outputs": [],
   "source": [
    "# Resolve a handle based PID\n",
    "#\n",
    "def resolve_PID(input):\n",
    "    Handle_URL='https://hdl.handle.net/api/handles/'\n",
    "    request_URL = Handle_URL + input\n",
    "    return requests.get(request_URL).text"
   ]
  },
  {
   "cell_type": "markdown",
   "id": "97e0510a-5639-4405-9846-aca9eaea8e0e",
   "metadata": {},
   "source": [
    "## The first step is to find and select a service"
   ]
  },
  {
   "cell_type": "markdown",
   "id": "b54e3209-7059-43a6-94cf-dae11ddf8a91",
   "metadata": {},
   "source": [
    "### Option a) We search in the service registry and read service information from the registry"
   ]
  },
  {
   "cell_type": "code",
   "execution_count": 29,
   "id": "b46716f9-f019-47af-ac14-6ae0c1edc42a",
   "metadata": {},
   "outputs": [],
   "source": [
    "# We define the registry URL\n",
    "# This registry contains, among others, InfoTypes, FDO Types, Operations and Service\n",
    "#\n",
    "registry_url='http://typeregistry.lab.pidconsortium.net/objects/'"
   ]
  },
  {
   "cell_type": "code",
   "execution_count": 30,
   "id": "ce41ab5b-5896-4808-a68d-e5282abc67ba",
   "metadata": {},
   "outputs": [],
   "source": [
    "# We want to search for FDO Services\n",
    "#\n",
    "document_type='FDO_Service'"
   ]
  },
  {
   "cell_type": "code",
   "execution_count": 31,
   "id": "39e780af-1762-46f5-806d-73eeb83bd4a7",
   "metadata": {},
   "outputs": [],
   "source": [
    "URL=registry_url + '?query=type:' + document_type"
   ]
  },
  {
   "cell_type": "code",
   "execution_count": 37,
   "id": "09badeac-4564-4d07-a8a4-0b8710470632",
   "metadata": {},
   "outputs": [
    {
     "name": "stdout",
     "output_type": "stream",
     "text": [
      "FDO_Manager -------- FDO Manager\n",
      "FDO_Servive_Registry_Testbed -------- Service Registry\n",
      "FDO_Testbed_Linkahead -------- Repository\n",
      "21.T11965/linkahead\n",
      "FDO_Testbed_Cordra -------- Repository\n",
      "21.T11967/service\n",
      "FDO_Testbed_B2Share -------- FDO Manager\n",
      "21.T11975/service\n"
     ]
    }
   ],
   "source": [
    "# Get all services from the service registry\n",
    "#\n",
    "services = requests.get(URL).json()\n",
    "for service in services['results']:\n",
    "    print (service['content']['name'] + ' -------- '+ service['content']['serviceType'])\n",
    "    if  service['content'].get('serviceId',False):\n",
    "        print(service['content']['serviceId'])"
   ]
  },
  {
   "cell_type": "code",
   "execution_count": 21,
   "id": "0ef7ae85-ab22-4116-b948-8134e29ca4d8",
   "metadata": {},
   "outputs": [
    {
     "name": "stdout",
     "output_type": "stream",
     "text": [
      "[{'status': '0.DOIP/Status.001', 'output': {'id': '21.T11967/service', 'type': '0.TYPE/DOIPServiceInfo', 'attributes': {'ipAddress': '0.0.0.0', 'port': 9000, 'protocol': 'TCP', 'protocolVersion': '2.0', 'cordraVersion': {'number': '2.5.2', 'timestamp': '2023-08-29T04:40:13Z', 'id': '405d6d0009c6'}, 'publicKey': {'kty': 'RSA', 'n': 'vWBPsSKco0x0n5_U-mBOJX9mrhQr23FOFbXhTHG4jR30j7r1yZKAQyM0i3MJsXupfwSSf4lMOPRdzkQCM6_rgQQJE7iyTn9ZJrAzSKtUwkbqUzxie_CEOX23N9ibZ8lTbvtvVx0sbNrY9Wg72Q5YRTbR-Gp4RhPx2tzKfGxYclWnApTxtiAMgIEgGHuGne4XrXuqISXno-YGDAsuQ5zfQO6NN9vIKkxDo5lvSEvfJUpaJm4BWigMFsBhrI72imFnNRZGuWkYYmIsOALM16pTU8JAOxtLlC83FeiYfG3zYovOQfTctN3-3jAgNjKn6JRLC9zw6uA0yAL1-2U_DksA3w', 'e': 'AQAB'}}}}]\n"
     ]
    }
   ],
   "source": [
    "#  Select a service ID and past here: \n",
    "service_id, ip, port = get_connection(service='21.T11967/service')\n",
    "print(hello(service_id,ip,port))"
   ]
  },
  {
   "cell_type": "markdown",
   "id": "5c11db44-853c-4c83-806d-d9d4952c946e",
   "metadata": {},
   "source": [
    "### Option b) Read service information form the PID system"
   ]
  },
  {
   "cell_type": "code",
   "execution_count": 32,
   "id": "3712fc1c-4f0f-44e7-b6cf-1f3865e2dc59",
   "metadata": {},
   "outputs": [],
   "source": [
    "service_PID = '21.T11967/service'\n",
    "service_PID_records = json.loads(resolve_PID(service_PID))"
   ]
  },
  {
   "cell_type": "code",
   "execution_count": 33,
   "id": "c4fd9207-8154-4337-aa36-0538f4f34002",
   "metadata": {},
   "outputs": [
    {
     "name": "stdout",
     "output_type": "stream",
     "text": [
      "https://cordra.testbed.pid.gwdg.de 141.5.106.77 9000\n"
     ]
    }
   ],
   "source": [
    "# Resolve the PID\n",
    "#\n",
    "for val in service_PID_records['values']:\n",
    "    if val['type'] == \"URL\":\n",
    "        service_URL=val['data']['value']\n",
    "    if val['type'] == \"IP\":\n",
    "        service_IP=val['data']['value']\n",
    "    if val['type'] == \"PORT\":\n",
    "        service_PORT=val['data']['value']\n",
    "print(service_URL, service_IP, service_PORT)"
   ]
  },
  {
   "cell_type": "markdown",
   "id": "ad683c36-4bb0-4576-a889-52ec9adb154f",
   "metadata": {},
   "source": [
    "### Now we can select one of the services, e.g. the cordra object store"
   ]
  },
  {
   "cell_type": "code",
   "execution_count": 38,
   "id": "87860360-8adf-40cc-bf72-0264dda55336",
   "metadata": {},
   "outputs": [],
   "source": [
    "# Cordra\n",
    "#\n",
    "service_PID='21.T11969/01370800d56a0d897dc1'"
   ]
  },
  {
   "cell_type": "code",
   "execution_count": 39,
   "id": "9501ae49-3a62-4a14-8133-698f2d96df7e",
   "metadata": {},
   "outputs": [
    {
     "name": "stdout",
     "output_type": "stream",
     "text": [
      "Implemented Operations:  ['21.T11969/d9ff44c97ea23287483b', '21.T11969/c79f0cd8573a2a2d2b56', '21.T11969/e05b20bacc684f8287b0']\n"
     ]
    }
   ],
   "source": [
    "# Get Extended Operations, not only the doip basic operations\n",
    "#\n",
    "service_operations = get_operations_from_service(service_PID,registry_url)\n",
    "print('Implemented Operations: ', service_operations)"
   ]
  },
  {
   "cell_type": "markdown",
   "id": "6b9811dd-41fb-4c9c-9bb9-e88261eae798",
   "metadata": {},
   "source": [
    "### Select an operation"
   ]
  },
  {
   "cell_type": "code",
   "execution_count": 40,
   "id": "6c1bfee2-5a92-45db-984e-bcede6457e3a",
   "metadata": {},
   "outputs": [],
   "source": [
    "operation_PID = service_operations[0]"
   ]
  },
  {
   "cell_type": "code",
   "execution_count": 41,
   "id": "a60d030d-329b-4a1e-b7b5-d60718b73f8d",
   "metadata": {},
   "outputs": [],
   "source": [
    "schema_PID = get_operation_schema_PID(operation_PID, registry_url)"
   ]
  },
  {
   "cell_type": "markdown",
   "id": "f3ed494f-f6c4-47ab-bd77-ecc463f2b80e",
   "metadata": {},
   "source": [
    "### Some manual steps to get the user input data\n",
    "Those need to be automized to ..."
   ]
  },
  {
   "cell_type": "code",
   "execution_count": 26,
   "id": "ba84edd1-e412-409c-8626-4003ab6e54b5",
   "metadata": {},
   "outputs": [],
   "source": [
    "# User credentials can be requested\n",
    "#\n",
    "data = {\n",
    "  \"FDO_Service_Ref\": service_PID,\n",
    "  \"FDO_Profile_Ref\": \"21.T11969/141bf451b18a79d0fe66\",\n",
    "  \"FDO_Authentication\": {\n",
    "    \"username\": \"admin\",\n",
    "    \"password\": \"***\"\n",
    "  },\n",
    "  \"FDO_Type_Ref\": \"21.1/thisIsAnFdoType\",\n",
    "  \"FDO_Rights_Ref\": \"21.1/thisIsAnFdoRightsSpecification\",\n",
    "  \"FDO_Genre_Ref\": \"21.1/thisIsAnFdoGenre\",\n",
    "  \"FDO_Data_and_Metadata\": [\n",
    "    {\n",
    "      \"data_bitsq\": \"data_file.txt\",\n",
    "      \"metadata_bitsq\": \"metadata_file.txt\",\n",
    "    }\n",
    "  ]\n",
    "}"
   ]
  },
  {
   "cell_type": "markdown",
   "id": "3411842f-fdda-463c-a7e4-b637168b625e",
   "metadata": {},
   "source": [
    "### Now call create_fdo from the doipy package"
   ]
  },
  {
   "cell_type": "code",
   "execution_count": null,
   "id": "d0ca1481-f900-40c3-8590-3703dd16f214",
   "metadata": {},
   "outputs": [],
   "source": [
    "response = create_fdo(data)\n",
    "print(\"New created FDO\",response)"
   ]
  },
  {
   "cell_type": "code",
   "execution_count": null,
   "id": "6f2e2d87-d585-4213-b0c4-5897983bac6d",
   "metadata": {},
   "outputs": [],
   "source": []
  }
 ],
 "metadata": {
  "kernelspec": {
   "display_name": "Python 3 (ipykernel)",
   "language": "python",
   "name": "python3"
  },
  "language_info": {
   "codemirror_mode": {
    "name": "ipython",
    "version": 3
   },
   "file_extension": ".py",
   "mimetype": "text/x-python",
   "name": "python",
   "nbconvert_exporter": "python",
   "pygments_lexer": "ipython3",
   "version": "3.11.9"
  }
 },
 "nbformat": 4,
 "nbformat_minor": 5
}
